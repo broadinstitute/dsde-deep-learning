{
 "cells": [
  {
   "cell_type": "code",
   "execution_count": 18,
   "metadata": {
    "collapsed": false
   },
   "outputs": [],
   "source": [
    "import os\n",
    "import sys\n",
    "import argparse\n",
    "import numpy as np\n",
    "from collections import Counter\n",
    "\n",
    "# Keras imports\n",
    "from keras.models import Model\n",
    "from keras.optimizers import Adam\n",
    "from keras.utils.vis_utils import model_to_dot\n",
    "from keras.layers import Input, Dense, Dropout, AlphaDropout, BatchNormalization, Activation\n",
    "\n",
    "# IPython imports\n",
    "from IPython.display import Image"
   ]
  },
  {
   "cell_type": "code",
   "execution_count": 24,
   "metadata": {
    "collapsed": true
   },
   "outputs": [],
   "source": [
    "def parse_args():\n",
    "\tparser = argparse.ArgumentParser()\n",
    "\n",
    "\tparser.add_argument('--data_dir', default='/tensors/',\n",
    "\t\thelp='Path to data.')\n",
    "\tparser.add_argument('--conv_layers', nargs='+', default=[128], type=int,\n",
    "\t\thelp='Number of convolutional layers i.e. the number filters in each.')    \n",
    "\tparser.add_argument('--dense_layers', nargs='+', default=[128], type=int,\n",
    "\t\thelp='List of number of hidden units in neural nets dense layers.')\n",
    "\tparser.add_argument('--activation', default='relu',\n",
    "\t\thelp='Activation function for hidden units in neural nets dense layers.')\n",
    "\tparser.add_argument('--validation', default=0.4,\n",
    "\t\thelp='Fraction of examples to use for validation.')\n",
    "\tparser.add_argument('--dropout', default=0.4,\n",
    "\t\thelp='Fraction of synapses to cut during training.')\t\n",
    "\tparser.add_argument('--epochs', default=32, type=int,\n",
    "\t\thelp='Number of training epochs.')\t\n",
    "\tparser.add_argument('--debug', default=False, action='store_true',\n",
    "\t\thelp='Run in debug mode.')\n",
    "\tparser.add_argument('--inspect_show_labels', default=False, action='store_true',\n",
    "\t\thelp='Plot model architecture with labels for each layer.')\n",
    "\n",
    "\targs = parser.parse_args()\n",
    "\tprint('Arguments are', args)\n",
    "\treturn args\n",
    "\n",
    "def make_dense_model(args, num_features):\n",
    "\tinput_samples = x = Input(shape=(num_features,))\n",
    "\t\n",
    "\tfor h in args.dense_layers:\n",
    "\t\tx = Dense(units=h, activation=args.activation)(x)\n",
    "\t\tif args.dropout > 0:\n",
    "\t\t\tx = Dropout(args.dropout)(x)\n",
    "\t\n",
    "\toutput_probability = Dense(units=2, activation='softmax')(x)\n",
    "\t\n",
    "\tm = Model(inputs=[input_samples], outputs=[output_probability])\n",
    "\topt = Adam(lr=0.001, beta_1=0.9, beta_2=0.999, epsilon=1e-08, clipnorm=1.)\n",
    "\tm.compile(optimizer='sgd', loss='binary_crossentropy', metrics=['accuracy'])\n",
    "\tm.summary()\n",
    "\treturn m\n",
    "\n",
    "def plot_dot_model_in_color(args, dot, image_path):\n",
    "\tfor n in dot.get_nodes():\n",
    "\t\tif n.get_label():\n",
    "\t\t\tif 'Conv1' in n.get_label():\n",
    "\t\t\t\tn.set_fillcolor(\"cyan\")\n",
    "\t\t\telif 'Conv2' in n.get_label():\n",
    "\t\t\t\tn.set_fillcolor(\"deepskyblue1\")\t\n",
    "\t\t\telif 'BatchNormalization' in n.get_label():\n",
    "\t\t\t\tn.set_fillcolor(\"goldenrod1\")\n",
    "\t\t\telif 'softmax' in n.get_label():\n",
    "\t\t\t\tn.set_fillcolor(\"chartreuse\")\n",
    "\t\t\telif 'Activation' in n.get_label():\n",
    "\t\t\t\tn.set_fillcolor(\"yellow\")\n",
    "\t\t\telif 'MaxPooling' in n.get_label():\n",
    "\t\t\t\tn.set_fillcolor(\"aquamarine\")\n",
    "\t\t\telif 'Dense' in n.get_label():\n",
    "\t\t\t\tn.set_fillcolor(\"gold\")\n",
    "\t\t\telif 'Flatten' in n.get_label():\n",
    "\t\t\t\tn.set_fillcolor(\"coral3\")\n",
    "\t\t\telif 'Reshape' in n.get_label():\n",
    "\t\t\t\tn.set_fillcolor(\"coral\")\n",
    "\t\t\telif 'Input' in n.get_label():\n",
    "\t\t\t\tn.set_fillcolor(\"darkolivegreen1\")\n",
    "\t\t\telif 'Concatenate' in n.get_label():\n",
    "\t\t\t\tn.set_fillcolor(\"darkorange\")\n",
    "\t\t\telif 'Dropout' in n.get_label():\n",
    "\t\t\t\tn.set_fillcolor(\"tomato\")\n",
    "\t\tn.set_style(\"filled\")\n",
    "\t\tif not args.inspect_show_labels:\n",
    "\t\t\tn.set_label('\\n')\n",
    "\n",
    "\tprint('Saving architecture diagram to:',image_path)\n",
    "\tdot.write_png(image_path)"
   ]
  },
  {
   "cell_type": "code",
   "execution_count": 25,
   "metadata": {
    "collapsed": false
   },
   "outputs": [
    {
     "name": "stdout",
     "output_type": "stream",
     "text": [
      "Arguments are Namespace(activation='relu', conv_layers=[128], data_dir='/tensors/', debug=False, dense_layers=[128], dropout=0.4, epochs=32, inspect_show_labels=True, validation=0.4)\n",
      "_________________________________________________________________\n",
      "Layer (type)                 Output Shape              Param #   \n",
      "=================================================================\n",
      "love (InputLayer)            (None, 10)                0         \n",
      "_________________________________________________________________\n",
      "dense_11 (Dense)             (None, 128)               1408      \n",
      "_________________________________________________________________\n",
      "dropout_6 (Dropout)          (None, 128)               0         \n",
      "_________________________________________________________________\n",
      "dense_12 (Dense)             (None, 2)                 258       \n",
      "=================================================================\n",
      "Total params: 1,666\n",
      "Trainable params: 1,666\n",
      "Non-trainable params: 0\n",
      "_________________________________________________________________\n",
      "Saving architecture diagram to: dense.png\n"
     ]
    },
    {
     "data": {
      "image/png": "[encoded data removed]",
      "text/plain": [
       "<IPython.core.display.Image object>"
      ]
     },
     "execution_count": 25,
     "metadata": {},
     "output_type": "execute_result"
    }
   ],
   "source": [
    "sys.argv = ['--dense_layers 2 25 25 25 25 26', '--inspect_show_labels']\n",
    "args = parse_args()\n",
    "model = make_dense_model(args, 10)\n",
    "plot_dot_model_in_color(args, model_to_dot(model, show_shapes=args.inspect_show_labels), 'dense.png')\n",
    "Image(filename='dense.png')"
   ]
  },
  {
   "cell_type": "code",
   "execution_count": null,
   "metadata": {
    "collapsed": true
   },
   "outputs": [],
   "source": []
  }
 ],
 "metadata": {
  "kernelspec": {
   "display_name": "Python [conda env:gatk]",
   "language": "python",
   "name": "conda-env-gatk-py"
  },
  "language_info": {
   "codemirror_mode": {
    "name": "ipython",
    "version": 3
   },
   "file_extension": ".py",
   "mimetype": "text/x-python",
   "name": "python",
   "nbconvert_exporter": "python",
   "pygments_lexer": "ipython3",
   "version": "3.6.2"
  }
 },
 "nbformat": 4,
 "nbformat_minor": 2
}
